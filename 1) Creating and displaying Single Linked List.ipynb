{
 "cells": [
  {
   "cell_type": "code",
   "execution_count": 9,
   "id": "0c2e5a07",
   "metadata": {},
   "outputs": [
    {
     "name": "stdout",
     "output_type": "stream",
     "text": [
      "10 → 20 → 30 → "
     ]
    }
   ],
   "source": [
    "# Creating and displaying Single Linked List\n",
    "\n",
    "class Node:\n",
    "    def __init__(self, data):\n",
    "        self.data = data\n",
    "        self.next = None\n",
    "        \n",
    "class SingleLinkedList:\n",
    "    def __init__(self):\n",
    "        self.head = None\n",
    "        \n",
    "    def display(self):\n",
    "        if self.head is None:\n",
    "            print(\"The list is empty\")\n",
    "        else:\n",
    "            temp = self.head\n",
    "                \n",
    "            while temp:\n",
    "                print(temp.data, \"→\", end=\" \")\n",
    "                temp = temp.next\n",
    "        \n",
    "l = SingleLinkedList()\n",
    "\n",
    "n1 = Node(10)\n",
    "l.head = n1\n",
    "\n",
    "n2 = Node(20)\n",
    "n1.next = n2\n",
    "\n",
    "n3 = Node(30)\n",
    "n2.next = n3\n",
    "\n",
    "l.display()"
   ]
  },
  {
   "cell_type": "code",
   "execution_count": null,
   "id": "3afb3e7f",
   "metadata": {},
   "outputs": [],
   "source": []
  }
 ],
 "metadata": {
  "kernelspec": {
   "display_name": "Python 3 (ipykernel)",
   "language": "python",
   "name": "python3"
  },
  "language_info": {
   "codemirror_mode": {
    "name": "ipython",
    "version": 3
   },
   "file_extension": ".py",
   "mimetype": "text/x-python",
   "name": "python",
   "nbconvert_exporter": "python",
   "pygments_lexer": "ipython3",
   "version": "3.9.12"
  }
 },
 "nbformat": 4,
 "nbformat_minor": 5
}
