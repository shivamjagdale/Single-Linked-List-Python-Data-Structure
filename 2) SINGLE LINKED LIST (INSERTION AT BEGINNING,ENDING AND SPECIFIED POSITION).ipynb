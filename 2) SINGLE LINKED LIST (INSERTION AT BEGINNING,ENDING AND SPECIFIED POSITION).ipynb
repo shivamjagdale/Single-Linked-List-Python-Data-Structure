{
 "cells": [
  {
   "cell_type": "code",
   "execution_count": 3,
   "id": "ed2ea6a9",
   "metadata": {},
   "outputs": [
    {
     "name": "stdout",
     "output_type": "stream",
     "text": [
      "4 → 5 → 10 → 20 → 15 → 30 → 35 → 40 → 50 → "
     ]
    }
   ],
   "source": [
    "# SINGLE LINKED LIST (INSERTION AT BEGINNING,ENDING AND SPECIFIED POSITION)\n",
    "\n",
    "class Node:\n",
    "    def __init__(self, data):\n",
    "        self.data = data\n",
    "        self.next = None\n",
    "        \n",
    "class SingleLinkedList:\n",
    "    def __init__(self):\n",
    "        self.head = None\n",
    "        \n",
    "    def insert_beginning(self, data):\n",
    "        nb = Node(data)\n",
    "        \n",
    "        nb.next = self.head\n",
    "        self.head = nb\n",
    "        \n",
    "    def insert_ending(self, data):\n",
    "        ne = Node(data)\n",
    "        \n",
    "        temp = self.head\n",
    "        \n",
    "        while temp.next:\n",
    "            temp = temp.next\n",
    "        temp.next = ne\n",
    "        \n",
    "    def insert_middle(self, pos, data):\n",
    "        nm = Node(data)\n",
    "        \n",
    "        temp = self.head \n",
    "        \n",
    "        for i in range(pos-1):\n",
    "            temp = temp.next\n",
    "        nm.data = data    \n",
    "        nm.next = temp.next\n",
    "        temp.next = nm\n",
    "        \n",
    "        \n",
    "    def display(self):\n",
    "        temp = self.head \n",
    "        \n",
    "        if self.head is None:\n",
    "            print(\"The list is empty\")\n",
    "        while temp:\n",
    "            print(temp.data, \"→\", end=\" \")\n",
    "            temp = temp.next\n",
    "        \n",
    "l = SingleLinkedList()\n",
    "\n",
    "n1 = Node(10)\n",
    "l.head = n1\n",
    "\n",
    "n2 = Node(20)\n",
    "n1.next = n2\n",
    "\n",
    "n3 = Node(30)\n",
    "n2.next = n3\n",
    "\n",
    "l.insert_beginning(5)\n",
    "l.insert_beginning(4)\n",
    "\n",
    "l.insert_ending(40)\n",
    "l.insert_ending(50)\n",
    "\n",
    "l.insert_middle(4,15)\n",
    "l.insert_middle(6,35)\n",
    "\n",
    "l.display()"
   ]
  },
  {
   "cell_type": "code",
   "execution_count": null,
   "id": "3140ed0e",
   "metadata": {},
   "outputs": [],
   "source": []
  }
 ],
 "metadata": {
  "kernelspec": {
   "display_name": "Python 3 (ipykernel)",
   "language": "python",
   "name": "python3"
  },
  "language_info": {
   "codemirror_mode": {
    "name": "ipython",
    "version": 3
   },
   "file_extension": ".py",
   "mimetype": "text/x-python",
   "name": "python",
   "nbconvert_exporter": "python",
   "pygments_lexer": "ipython3",
   "version": "3.9.12"
  }
 },
 "nbformat": 4,
 "nbformat_minor": 5
}
