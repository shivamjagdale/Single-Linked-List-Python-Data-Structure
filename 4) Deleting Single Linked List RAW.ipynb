{
 "cells": [
  {
   "cell_type": "code",
   "execution_count": null,
   "id": "b9334433",
   "metadata": {},
   "outputs": [],
   "source": [
    "# Deletion at beginning \n",
    "\n",
    "temp = self.head\n",
    "self.head = temp.next\n",
    "temp.next = None\n",
    "\n",
    "# Deletion at ending \n",
    "\n",
    "temp = self.head.next\n",
    "prev = self.head\n",
    "\n",
    "while temp.next is not None:\n",
    "    temp = temp.next\n",
    "    prev = prev.next\n",
    "prev.next = None    \n",
    "\n",
    "\n",
    "# Deletion at specified position\n",
    "temp = self.head.next\n",
    "prev = self.head\n",
    "for i in range(1,-1):\n",
    "    temp = temp.next\n",
    "    prev = prev.next\n",
    "prev.next = temp.next\n",
    "temp.next = None"
   ]
  }
 ],
 "metadata": {
  "kernelspec": {
   "display_name": "Python 3 (ipykernel)",
   "language": "python",
   "name": "python3"
  },
  "language_info": {
   "codemirror_mode": {
    "name": "ipython",
    "version": 3
   },
   "file_extension": ".py",
   "mimetype": "text/x-python",
   "name": "python",
   "nbconvert_exporter": "python",
   "pygments_lexer": "ipython3",
   "version": "3.9.12"
  }
 },
 "nbformat": 4,
 "nbformat_minor": 5
}
